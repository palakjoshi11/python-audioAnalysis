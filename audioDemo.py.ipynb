{
 "cells": [
  {
   "cell_type": "markdown",
   "id": "dd977f93",
   "metadata": {},
   "source": [
    "WORKING WITH AUDIO"
   ]
  },
  {
   "cell_type": "code",
   "execution_count": null,
   "id": "50129ec7",
   "metadata": {},
   "outputs": [],
   "source": [
    "import librosa"
   ]
  },
  {
   "cell_type": "code",
   "execution_count": null,
   "id": "daf413ae",
   "metadata": {},
   "outputs": [],
   "source": [
    "audio= 'coldplayYellow.wav'"
   ]
  },
  {
   "cell_type": "code",
   "execution_count": null,
   "id": "24452ff0",
   "metadata": {},
   "outputs": [],
   "source": [
    "x , sr = librosa.load(audio)\n",
    "print(type(x), type(sr))\n",
    "\n",
    "#sr or sample rate -> the number of samples of audio carried per second, measured in Hz or kHz.\n"
   ]
  },
  {
   "cell_type": "markdown",
   "id": "c1502e13",
   "metadata": {},
   "source": [
    "How to play audio in jupyter"
   ]
  },
  {
   "cell_type": "code",
   "execution_count": null,
   "id": "840c001f",
   "metadata": {},
   "outputs": [],
   "source": [
    "import IPython.display as ipd\n",
    "ipd.Audio(audio)"
   ]
  },
  {
   "cell_type": "markdown",
   "id": "55943ffb",
   "metadata": {},
   "source": [
    "Plotting graph for audio"
   ]
  },
  {
   "cell_type": "code",
   "execution_count": null,
   "id": "ddc28a27",
   "metadata": {},
   "outputs": [],
   "source": [
    "import matplotlib.pyplot as plt\n",
    "import librosa.display as ld\n"
   ]
  },
  {
   "cell_type": "code",
   "execution_count": null,
   "id": "806d8f94",
   "metadata": {},
   "outputs": [],
   "source": [
    "plt.figure(figsize=(14, 5))\n",
    "ld.waveplot(x, sr=sr)"
   ]
  },
  {
   "cell_type": "markdown",
   "id": "c32287ae",
   "metadata": {},
   "source": [
    "A spectrogram is a visual way of representing the signal strength, or “loudness”, of a signal over time at various frequencies present in a particular waveform. "
   ]
  },
  {
   "cell_type": "code",
   "execution_count": null,
   "id": "1a6c4fc7",
   "metadata": {},
   "outputs": [],
   "source": [
    "X = librosa.stft(x)\n",
    "#.stft :short term Fourier transform\n",
    "#STFT converts signals such that we can know the amplitude of the given frequency at a given time.\n",
    "Xdb = librosa.amplitude_to_db(abs(X))\n",
    "plt.figure(figsize=(14, 5))\n",
    "ld.specshow(Xdb, sr=sr, x_axis='time', y_axis='hz')\n",
    "#.specshow is used to display a spectrogram.\n",
    "plt.colorbar()"
   ]
  },
  {
   "cell_type": "markdown",
   "id": "9851f364",
   "metadata": {},
   "source": [
    "creating an audio signal"
   ]
  },
  {
   "cell_type": "code",
   "execution_count": null,
   "id": "556795c1",
   "metadata": {},
   "outputs": [],
   "source": [
    "import numpy as np\n",
    "sr = 22050 # sample rate\n",
    "#sr = 4000\n",
    "T = 5.0    # seconds\n",
    "t = np.linspace(0, T, int(T*sr), endpoint=False) # time variable\n",
    "x = 0.5*np.sin(7*np.pi*220*t)# pure sine wave at 220 Hz \n",
    "\n",
    "# if we change 4 to higher number pitch will be high\n",
    "#Playing the audio\n",
    "\n",
    "ipd.Audio(x, rate=sr) # load a NumPy array\n",
    "#Saving the audio\n",
    "# librosa.output.write_wav('tone_220.wav', x, sr)"
   ]
  },
  {
   "cell_type": "markdown",
   "id": "926e9eef",
   "metadata": {},
   "source": [
    "Project- Musical genre classification\n",
    "Roadmap:\n",
    "First of all, we need to convert the audio files into PNG format images(spectrograms). \n",
    "From these spectrograms, we have to extract meaningful features, i.e. \n",
    "    1. MFCCs, \n",
    "    2. Spectral Centroid, \n",
    "    3. Zero Crossing Rate, \n",
    "    4. Chroma Frequencies, \n",
    "    5. Spectral Roll-off.\n",
    "Once the features have been extracted, they can be appended into a CSV file so that ANN can be used for classification.\n",
    "If we wanna work with image data instead of CSV we will use CNN"
   ]
  },
  {
   "cell_type": "markdown",
   "id": "51e4c2bd",
   "metadata": {},
   "source": [
    "Feature extraction from Audio signal\n",
    "    1. spectral centroid indicates at which frequency the energy of a spectrum is centered upon or in other words It indicates where the ” center of mass” for a sound is located.\n",
    "        f= total{S(k)f(k)}\n",
    "            ____________\n",
    "            total{S(k)}\n",
    "           S(k) is the spectral magnitude at frequency bin k, \n",
    "           f(k) is the frequency at bin k.\n",
    "    2. Spectral Rolloff:\n",
    "    It is a measure of the shape of the signal. It represents the frequency at which high frequencies decline to 0."
   ]
  },
  {
   "cell_type": "code",
   "execution_count": null,
   "id": "cb635548",
   "metadata": {},
   "outputs": [],
   "source": []
  },
  {
   "cell_type": "code",
   "execution_count": null,
   "id": "ca57d713",
   "metadata": {},
   "outputs": [],
   "source": []
  },
  {
   "cell_type": "code",
   "execution_count": null,
   "id": "39a475ea",
   "metadata": {},
   "outputs": [],
   "source": []
  },
  {
   "cell_type": "code",
   "execution_count": null,
   "id": "48643c21",
   "metadata": {},
   "outputs": [],
   "source": []
  },
  {
   "cell_type": "code",
   "execution_count": null,
   "id": "12db31e7",
   "metadata": {},
   "outputs": [],
   "source": []
  },
  {
   "cell_type": "code",
   "execution_count": null,
   "id": "176a1adf",
   "metadata": {},
   "outputs": [],
   "source": []
  }
 ],
 "metadata": {
  "kernelspec": {
   "display_name": "Python 3",
   "language": "python",
   "name": "python3"
  },
  "language_info": {
   "codemirror_mode": {
    "name": "ipython",
    "version": 3
   },
   "file_extension": ".py",
   "mimetype": "text/x-python",
   "name": "python",
   "nbconvert_exporter": "python",
   "pygments_lexer": "ipython3",
   "version": "3.9.2"
  }
 },
 "nbformat": 4,
 "nbformat_minor": 5
}
